{
  "nbformat": 4,
  "nbformat_minor": 0,
  "metadata": {
    "colab": {
      "provenance": []
    },
    "kernelspec": {
      "name": "python3",
      "display_name": "Python 3"
    },
    "language_info": {
      "name": "python"
    }
  },
  "cells": [
    {
      "cell_type": "markdown",
      "source": [
        "Q1. What is data encoding? How is it useful in data science?\n",
        "\n"
      ],
      "metadata": {
        "id": "VINPdhpBoLvw"
      }
    },
    {
      "cell_type": "markdown",
      "source": [
        "Data encoding is the process of converting categorical or textual data into a numerical format that machine learning algorithms can understand.\n",
        "\n",
        "It is useful in data science because many machine learning algorithms require numerical inputs, and encoding allows us to represent categorical information in a way that can be utilized by these algorithm"
      ],
      "metadata": {
        "id": "TiobNDWeoTIt"
      }
    },
    {
      "cell_type": "markdown",
      "source": [
        "Q2. What is nominal encoding? Provide an example of how you would use it in a real-world scenario."
      ],
      "metadata": {
        "id": "nhhEnBYoonJY"
      }
    },
    {
      "cell_type": "markdown",
      "source": [
        "Nominal encoding assigns a unique numerical value to each category in a categorical feature without imposing any ordinal relationship between them.\n",
        "\n",
        "Example: Suppose we have a \"color\" feature with categories {Red, Green, Blue}. We can encode them as {1, 2, 3} respectively."
      ],
      "metadata": {
        "id": "UWfLUOL9oqeN"
      }
    },
    {
      "cell_type": "markdown",
      "source": [
        "Q3. In what situations is nominal encoding preferred over one-hot encoding? Provide a practical example."
      ],
      "metadata": {
        "id": "InGL37URouZ5"
      }
    },
    {
      "cell_type": "markdown",
      "source": [
        "Nominal encoding is preferred over one-hot encoding when the categorical feature has many unique categories, as it results in fewer new columns.\n",
        "\n",
        "Example: Suppose we have a \"country\" feature with hundreds of unique categories. Using nominal encoding will result in fewer new columns compared to one-hot encoding, making it more efficient for high-cardinality features."
      ],
      "metadata": {
        "id": "eAVFOpl4oxuq"
      }
    },
    {
      "cell_type": "markdown",
      "source": [
        "Q4. Suppose you have a dataset containing categorical data with 5 unique values. Which encoding\n",
        "technique would you use to transform this data into a format suitable for machine learning algorithms?\n",
        "Explain why you made this choice."
      ],
      "metadata": {
        "id": "sRtz9tvBo18k"
      }
    },
    {
      "cell_type": "markdown",
      "source": [
        "For a dataset with 5 unique values in a categorical feature, nominal encoding would be suitable. Since there are only a few unique values, the creation of new columns (as in one-hot encoding) would not lead to a significant increase in dimensionality."
      ],
      "metadata": {
        "id": "Y-JuoqwQo5J_"
      }
    },
    {
      "cell_type": "markdown",
      "source": [
        "Q5. In a machine learning project, you have a dataset with 1000 rows and 5 columns. Two of the columns\n",
        "are categorical, and the remaining three columns are numerical. If you were to use nominal encoding to\n",
        "transform the categorical data, how many new columns would be created? Show your calculations."
      ],
      "metadata": {
        "id": "FkLkr9kJo89f"
      }
    },
    {
      "cell_type": "markdown",
      "source": [
        "If you use nominal encoding for two categorical columns, each column will be replaced by a single numerical column. So, for 2 categorical columns, 2 new columns will be created."
      ],
      "metadata": {
        "id": "Ue0y83wKo__g"
      }
    },
    {
      "cell_type": "markdown",
      "source": [
        "Q6. You are working with a dataset containing information about different types of animals, including their\n",
        "species, habitat, and diet. Which encoding technique would you use to transform the categorical data into\n",
        "a format suitable for machine learning algorithms? Justify your answer."
      ],
      "metadata": {
        "id": "oXyk6GT5pDmb"
      }
    },
    {
      "cell_type": "markdown",
      "source": [
        "For the animal dataset, where features like species, habitat, and diet are categorical, nominal encoding would be suitable. It will preserve the categorical information without creating too many new columns, especially if there are many unique categories within each feature."
      ],
      "metadata": {
        "id": "kiyXb8kapIos"
      }
    },
    {
      "cell_type": "markdown",
      "source": [
        "Q7.You are working on a project that involves predicting customer churn for a telecommunications\n",
        "company. You have a dataset with 5 features, including the customer's gender, age, contract type,\n",
        "monthly charges, and tenure. Which encoding technique(s) would you use to transform the categorical\n",
        "data into numerical data? Provide a step-by-step explanation of how you would implement the encoding."
      ],
      "metadata": {
        "id": "CE9XV7RPpNfS"
      }
    },
    {
      "cell_type": "markdown",
      "source": [
        "For the customer churn dataset, we can use a combination of nominal encoding and possibly other techniques depending on the nature of the categorical variables.\n",
        "\n",
        "Steps:\n",
        "For binary categorical features like gender, use nominal encoding (e.g., Male: 0, Female: 1).\n",
        "For multi-level categorical features like contract type, use nominal encoding (e.g., Month-to-month: 1, One year: 2, Two year: 3).\n",
        "Ensure that the numerical features like monthly charges and tenure are scaled appropriately if needed."
      ],
      "metadata": {
        "id": "zGgcnHVBpQ4t"
      }
    }
  ]
}